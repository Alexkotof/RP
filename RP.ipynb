{
 "cells": [
  {
   "cell_type": "code",
   "execution_count": 2,
   "id": "b5b2eb5d",
   "metadata": {},
   "outputs": [],
   "source": [
    "import cv2\n",
    "import numpy as np \n",
    "import math as mt\n",
    "import os \n",
    "from skimage.measure import compare_ssim\n",
    "import argparse\n",
    "import imutils\n",
    "import scipy.signal as sig\n",
    "import copy "
   ]
  },
  {
   "cell_type": "code",
   "execution_count": 3,
   "id": "36ad1cb3",
   "metadata": {},
   "outputs": [],
   "source": [
    "mono = cv2.IMREAD_GRAYSCALE\n",
    "poly = cv2.IMREAD_COLOR\n",
    "path1 ='./map_from.jpg'"
   ]
  },
  {
   "cell_type": "code",
   "execution_count": 9,
   "id": "de0946fa",
   "metadata": {},
   "outputs": [],
   "source": [
    "def loading_displaying_saving( path, colour = mono ):\n",
    "    img = cv2.imread(path, colour)\n",
    "    cv2.imshow(path, img)\n",
    "    cv2.waitKey(0)\n",
    "#     cv2.imwrite('graygirl.jpg', img)"
   ]
  },
  {
   "cell_type": "code",
   "execution_count": 6,
   "id": "45fcad2d",
   "metadata": {},
   "outputs": [],
   "source": [
    "def resizing(img, new_width=None, new_height=None, interp=cv2.INTER_LINEAR):\n",
    "    h, w = img.shape[:2]\n",
    "# проверка на наличие изменений\n",
    "    if new_width is None and new_height is None:\n",
    "        return img\n",
    "    else:\n",
    "# если задана только новая высота.\n",
    "        if new_width is None:\n",
    "            ratio = new_height / h\n",
    "            dimension = (int(w * ratio), new_height)\n",
    "\n",
    "        else:\n",
    "            ratio = new_width / w\n",
    "            dimension = (new_width, int(h * ratio))\n",
    "\n",
    "        res_img = cv2.resize(img, dimension, interpolation=interp)\n",
    "        return res_img "
   ]
  },
  {
   "cell_type": "code",
   "execution_count": 5,
   "id": "fcb9657d",
   "metadata": {},
   "outputs": [],
   "source": [
    "def sampling(img,  size = 2 ):\n",
    "    if len(img.shape)  == 2:\n",
    "        new = np.zeros((img.shape[0]//size,img.shape[1]//size))\n",
    "        print(new.shape)\n",
    "    if len(img.shape)  == 3:\n",
    "        new = np.zeros((img.shape[0]//size,img.shape[1]//size, img.shape[3]))\n",
    "    for i in range(size//2,img.shape[0] - size//2, size): \n",
    "        for j in range(size//2,img.shape[1] - size//2, size):\n",
    "#             for channel in range(img.shape[3]):\n",
    "            new[ (i-size//2)//size , (j-size//2)//size ] = img[i,j]\n",
    "    return new\n",
    "    \n",
    "    "
   ]
  },
  {
   "cell_type": "code",
   "execution_count": 15,
   "id": "d2fbcb0c",
   "metadata": {},
   "outputs": [
    {
     "name": "stdout",
     "output_type": "stream",
     "text": [
      "<class 'numpy.uint8'>\n",
      "(256, 256)\n",
      "(128, 128)\n",
      "(128, 128)\n"
     ]
    },
    {
     "data": {
      "text/plain": [
       "True"
      ]
     },
     "execution_count": 15,
     "metadata": {},
     "output_type": "execute_result"
    }
   ],
   "source": [
    "# sampling test\n",
    "img  = cv2.imread('./img.jpg', mono) \n",
    "img.shape\n",
    "print(type(img[0,0]))\n",
    "list(img.shape)\n",
    "img_blur_3 = cv2.GaussianBlur(img, (3, 3), 0)\n",
    "print(img_blur_3.shape)\n",
    "img_blur_3 = sampling(img_blur_3)\n",
    "print(img_blur_3.shape)\n",
    "cv2.imwrite('img_blur_3.jpg', img_blur_3)"
   ]
  },
  {
   "cell_type": "code",
   "execution_count": 27,
   "id": "11b8edff",
   "metadata": {},
   "outputs": [],
   "source": [
    "# loading_displaying_saving(path1)"
   ]
  },
  {
   "cell_type": "markdown",
   "id": "32ca3156",
   "metadata": {},
   "source": [
    "Сжатие методом бикубической интерполяции и фильтром ланцеша."
   ]
  },
  {
   "cell_type": "code",
   "execution_count": 10,
   "id": "c084a4db",
   "metadata": {},
   "outputs": [
    {
     "ename": "AttributeError",
     "evalue": "'NoneType' object has no attribute 'shape'",
     "output_type": "error",
     "traceback": [
      "\u001b[1;31m---------------------------------------------------------------------------\u001b[0m",
      "\u001b[1;31mAttributeError\u001b[0m                            Traceback (most recent call last)",
      "\u001b[1;32m<ipython-input-10-7eb2fb00f09e>\u001b[0m in \u001b[0;36m<module>\u001b[1;34m\u001b[0m\n\u001b[0;32m      1\u001b[0m \u001b[1;31m# cv2.INTER_CUBIC\u001b[0m\u001b[1;33m\u001b[0m\u001b[1;33m\u001b[0m\u001b[1;33m\u001b[0m\u001b[0m\n\u001b[0;32m      2\u001b[0m \u001b[0mimg\u001b[0m  \u001b[1;33m=\u001b[0m \u001b[0mcv2\u001b[0m\u001b[1;33m.\u001b[0m\u001b[0mimread\u001b[0m\u001b[1;33m(\u001b[0m\u001b[1;34m'./map_from.jpg'\u001b[0m\u001b[1;33m,\u001b[0m \u001b[0mmono\u001b[0m\u001b[1;33m)\u001b[0m\u001b[1;33m\u001b[0m\u001b[1;33m\u001b[0m\u001b[0m\n\u001b[1;32m----> 3\u001b[1;33m \u001b[0mh\u001b[0m \u001b[1;33m=\u001b[0m \u001b[0mimg\u001b[0m\u001b[1;33m.\u001b[0m\u001b[0mshape\u001b[0m\u001b[1;33m[\u001b[0m\u001b[1;36m0\u001b[0m\u001b[1;33m]\u001b[0m\u001b[1;33m\u001b[0m\u001b[1;33m\u001b[0m\u001b[0m\n\u001b[0m\u001b[0;32m      4\u001b[0m \u001b[0mw\u001b[0m \u001b[1;33m=\u001b[0m \u001b[0mimg\u001b[0m\u001b[1;33m.\u001b[0m\u001b[0mshape\u001b[0m\u001b[1;33m[\u001b[0m\u001b[1;36m1\u001b[0m\u001b[1;33m]\u001b[0m\u001b[1;33m\u001b[0m\u001b[1;33m\u001b[0m\u001b[0m\n\u001b[0;32m      5\u001b[0m \u001b[0mkoeff\u001b[0m  \u001b[1;33m=\u001b[0m  \u001b[1;36m2\u001b[0m\u001b[1;33m\u001b[0m\u001b[1;33m\u001b[0m\u001b[0m\n",
      "\u001b[1;31mAttributeError\u001b[0m: 'NoneType' object has no attribute 'shape'"
     ]
    }
   ],
   "source": [
    "# cv2.INTER_CUBIC\n",
    "img  = cv2.imread('./map_from.jpg', mono) \n",
    "h = img.shape[0]\n",
    "w = img.shape[1]\n",
    "koeff  =  2 \n",
    "print(\"Before zipping: \", img.shape)\n",
    "res_img_cubic = resizing(img, new_width = int(w/koeff),interp = cv2.INTER_CUBIC)\n",
    "res_img_lanz = resizing(img, new_width = int(w/koeff),interp = cv2.INTER_LANCZOS4)\n",
    "print(\"After zipping:\", res_img_cubic.shape )\n",
    "# cv2.imshow('res_img', res_img)\n",
    "cv2.imwrite('res_zip_cubic.jpg', res_img_cubic)\n",
    "cv2.imwrite('res_zip_lanz.jpg', res_img_lanz)"
   ]
  },
  {
   "cell_type": "markdown",
   "id": "763cbc9e",
   "metadata": {},
   "source": [
    "Восстановление теми же методами. "
   ]
  },
  {
   "cell_type": "code",
   "execution_count": 11,
   "id": "40bded01",
   "metadata": {
    "scrolled": true
   },
   "outputs": [
    {
     "ename": "AttributeError",
     "evalue": "'NoneType' object has no attribute 'shape'",
     "output_type": "error",
     "traceback": [
      "\u001b[1;31m---------------------------------------------------------------------------\u001b[0m",
      "\u001b[1;31mAttributeError\u001b[0m                            Traceback (most recent call last)",
      "\u001b[1;32m<ipython-input-11-e312c6c88926>\u001b[0m in \u001b[0;36m<module>\u001b[1;34m\u001b[0m\n\u001b[1;32m----> 1\u001b[1;33m \u001b[0mprint\u001b[0m\u001b[1;33m(\u001b[0m\u001b[1;34m\"Before recovery: \"\u001b[0m\u001b[1;33m,\u001b[0m \u001b[0mimg\u001b[0m\u001b[1;33m.\u001b[0m\u001b[0mshape\u001b[0m\u001b[1;33m)\u001b[0m\u001b[1;33m\u001b[0m\u001b[1;33m\u001b[0m\u001b[0m\n\u001b[0m\u001b[0;32m      2\u001b[0m \u001b[1;33m\u001b[0m\u001b[0m\n\u001b[0;32m      3\u001b[0m \u001b[0mres_zip_cubic\u001b[0m \u001b[1;33m=\u001b[0m \u001b[0mcv2\u001b[0m\u001b[1;33m.\u001b[0m\u001b[0mimread\u001b[0m\u001b[1;33m(\u001b[0m\u001b[1;34m'./res_zip_cubic.jpg'\u001b[0m\u001b[1;33m,\u001b[0m \u001b[0mpoly\u001b[0m\u001b[1;33m)\u001b[0m\u001b[1;33m\u001b[0m\u001b[1;33m\u001b[0m\u001b[0m\n\u001b[0;32m      4\u001b[0m \u001b[0mres_zip_lanz\u001b[0m \u001b[1;33m=\u001b[0m \u001b[0mcv2\u001b[0m\u001b[1;33m.\u001b[0m\u001b[0mimread\u001b[0m\u001b[1;33m(\u001b[0m\u001b[1;34m'./res_zip_lanz.jpg'\u001b[0m\u001b[1;33m,\u001b[0m \u001b[0mpoly\u001b[0m\u001b[1;33m)\u001b[0m\u001b[1;33m\u001b[0m\u001b[1;33m\u001b[0m\u001b[0m\n\u001b[0;32m      5\u001b[0m \u001b[1;33m\u001b[0m\u001b[0m\n",
      "\u001b[1;31mAttributeError\u001b[0m: 'NoneType' object has no attribute 'shape'"
     ]
    }
   ],
   "source": [
    "print(\"Before recovery: \", img.shape)\n",
    "\n",
    "res_zip_cubic = cv2.imread('./res_zip_cubic.jpg', poly)\n",
    "res_zip_lanz = cv2.imread('./res_zip_lanz.jpg', poly)\n",
    "\n",
    "res_rec_cubic = resizing(res_zip_cubic, new_width = w, interp = cv2.INTER_CUBIC)\n",
    "res_rec_lanz = resizing(res_zip_lanz, new_width = w, interp = cv2.INTER_LANCZOS4)\n",
    "print(\"After recovery:\", res_img_cubic.shape ) \n",
    "# cv2.imshow('res_img', res_img)\n",
    "cv2.imwrite('res_rec_cubic.jpg', res_rec_cubic)\n",
    "cv2.imwrite('res_rec_lanz.jpg', res_rec_lanz)"
   ]
  },
  {
   "cell_type": "code",
   "execution_count": 30,
   "id": "9c5c66cc",
   "metadata": {},
   "outputs": [],
   "source": [
    "def gaussian_blurring():\n",
    "    image = cv2.imread('girl.jpg')\n",
    "    img_blur_3 = cv2.GaussianBlur(image, (3, 3), 0)\n",
    "    img_blur_7 = cv2.GaussianBlur(image, (7, 7), 0)\n",
    "    img_blur_11 = cv2.GaussianBlur(image, (11, 11), 0)"
   ]
  },
  {
   "cell_type": "code",
   "execution_count": 44,
   "id": "1f27d7b6",
   "metadata": {},
   "outputs": [],
   "source": [
    "img_blur_3 = cv2.GaussianBlur(img, (3, 3), 0)\n",
    "img_blur_7 = cv2.GaussianBlur(img, (7, 7), 0)\n",
    "img_blur_11 = cv2.GaussianBlur(img, (11, 11), 0)"
   ]
  },
  {
   "cell_type": "code",
   "execution_count": 31,
   "id": "db2d1dbf",
   "metadata": {},
   "outputs": [
    {
     "data": {
      "text/plain": [
       "True"
      ]
     },
     "execution_count": 31,
     "metadata": {},
     "output_type": "execute_result"
    }
   ],
   "source": [
    "cv2.imwrite('img_blur_3.jpg', img_blur_3)\n",
    "cv2.imwrite('img_blur_7.jpg', img_blur_7)\n",
    "cv2.imwrite('img_blur_11.jpg', img_blur_11)"
   ]
  },
  {
   "cell_type": "code",
   "execution_count": 33,
   "id": "2500967f",
   "metadata": {},
   "outputs": [
    {
     "data": {
      "text/plain": [
       "numpy.ndarray"
      ]
     },
     "execution_count": 33,
     "metadata": {},
     "output_type": "execute_result"
    }
   ],
   "source": [
    "type(img_blur_11)"
   ]
  },
  {
   "cell_type": "code",
   "execution_count": 34,
   "id": "4ac38164",
   "metadata": {},
   "outputs": [
    {
     "data": {
      "text/plain": [
       "True"
      ]
     },
     "execution_count": 34,
     "metadata": {},
     "output_type": "execute_result"
    }
   ],
   "source": [
    "res_INTER_NEAREST = resizing(img_blur_3, new_width = int(w/koeff),interp = cv2.INTER_NEAREST)\n",
    "cv2.imwrite('res_INTER_NEAREST.jpg', res_INTER_NEAREST) "
   ]
  },
  {
   "cell_type": "code",
   "execution_count": 35,
   "id": "b20d57c3",
   "metadata": {},
   "outputs": [
    {
     "ename": "error",
     "evalue": "OpenCV(4.5.1) C:\\Users\\appveyor\\AppData\\Local\\Temp\\1\\pip-req-build-oduouqig\\opencv\\modules\\core\\src\\norm.cpp:1096: error: (-215:Assertion failed) _src1.sameSize(_src2) in function 'cv::norm'\n",
     "output_type": "error",
     "traceback": [
      "\u001b[1;31m---------------------------------------------------------------------------\u001b[0m",
      "\u001b[1;31merror\u001b[0m                                     Traceback (most recent call last)",
      "\u001b[1;32m<ipython-input-35-ee94353c56a9>\u001b[0m in \u001b[0;36m<module>\u001b[1;34m\u001b[0m\n\u001b[1;32m----> 1\u001b[1;33m \u001b[0mcv2\u001b[0m\u001b[1;33m.\u001b[0m\u001b[0mPSNR\u001b[0m\u001b[1;33m(\u001b[0m\u001b[0mimg\u001b[0m\u001b[1;33m,\u001b[0m \u001b[0mres_rec_cubic\u001b[0m\u001b[1;33m)\u001b[0m\u001b[1;33m\u001b[0m\u001b[1;33m\u001b[0m\u001b[0m\n\u001b[0m",
      "\u001b[1;31merror\u001b[0m: OpenCV(4.5.1) C:\\Users\\appveyor\\AppData\\Local\\Temp\\1\\pip-req-build-oduouqig\\opencv\\modules\\core\\src\\norm.cpp:1096: error: (-215:Assertion failed) _src1.sameSize(_src2) in function 'cv::norm'\n"
     ]
    }
   ],
   "source": [
    "cv2.PSNR(img, res_rec_cubic)"
   ]
  },
  {
   "cell_type": "code",
   "execution_count": 9,
   "id": "e2ce5fa1",
   "metadata": {},
   "outputs": [],
   "source": [
    "def PSNR(img1, img2):\n",
    "    img1 = img1.astype(np.float64) / 255.\n",
    "    img2 = img2.astype(np.float64) / 255.\n",
    "    mse = np.mean((img1 - img2) ** 2)\n",
    "    if mse == 0:\n",
    "        return \"Same Image\"\n",
    "    return 10 * mt.log10(1. / mse)\n",
    "\n",
    "# PSNR(img, res_rec_cubic) "
   ]
  },
  {
   "cell_type": "code",
   "execution_count": null,
   "id": "dd57d6c4",
   "metadata": {},
   "outputs": [],
   "source": [
    "cv2.SSIM()"
   ]
  },
  {
   "cell_type": "code",
   "execution_count": 25,
   "id": "7fee7c31",
   "metadata": {
    "scrolled": true
   },
   "outputs": [
    {
     "name": "stdout",
     "output_type": "stream",
     "text": [
      "Collecting SSIM-PIL\n",
      "  Downloading SSIM_PIL-1.0.12-py3-none-any.whl (8.4 kB)\n",
      "Installing collected packages: SSIM-PIL\n",
      "Successfully installed SSIM-PIL-1.0.12\n"
     ]
    },
    {
     "name": "stderr",
     "output_type": "stream",
     "text": [
      "\"C:\\Program\" ­Ґ пў«пҐвбп ў­гваҐ­­Ґ© Ё«Ё ў­Ґи­Ґ©\n",
      "Є®¬ ­¤®©, ЁбЇ®«­пҐ¬®© Їа®Ја ¬¬®© Ё«Ё Ї ЄҐв­л¬ д ©«®¬.\n"
     ]
    }
   ],
   "source": [
    "# ! pip install SSIM-PIL\n"
   ]
  },
  {
   "cell_type": "code",
   "execution_count": 27,
   "id": "a69d6b2b",
   "metadata": {
    "scrolled": true
   },
   "outputs": [],
   "source": [
    "# from SSIM_PIL import compare_ssim\n",
    "# value = compare_ssim(img, img_blur_7)\n"
   ]
  },
  {
   "cell_type": "code",
   "execution_count": 28,
   "id": "83fd763d",
   "metadata": {
    "scrolled": true
   },
   "outputs": [
    {
     "name": "stdout",
     "output_type": "stream",
     "text": [
      "Requirement already satisfied: scikit-image in c:\\users\\aleksandr\\anaconda3\\lib\\site-packages (0.17.2)\n",
      "Collecting opencv-python\n",
      "  Downloading opencv_python-4.5.1.48-cp37-cp37m-win_amd64.whl (34.9 MB)\n",
      "Collecting imutils\n",
      "  Downloading imutils-0.5.4.tar.gz (17 kB)\n",
      "Requirement already satisfied: numpy>=1.14.5 in c:\\users\\aleksandr\\anaconda3\\lib\\site-packages (from opencv-python) (1.19.2)\n",
      "Requirement already satisfied: scipy>=1.0.1 in c:\\users\\aleksandr\\anaconda3\\lib\\site-packages (from scikit-image) (1.6.2)\n",
      "Requirement already satisfied: matplotlib!=3.0.0,>=2.0.0 in c:\\users\\aleksandr\\anaconda3\\lib\\site-packages (from scikit-image) (3.3.4)\n",
      "Requirement already satisfied: networkx>=2.0 in c:\\users\\aleksandr\\anaconda3\\lib\\site-packages (from scikit-image) (2.5)\n",
      "Requirement already satisfied: pillow!=7.1.0,!=7.1.1,>=4.3.0 in c:\\users\\aleksandr\\anaconda3\\lib\\site-packages (from scikit-image) (8.2.0)\n",
      "Requirement already satisfied: imageio>=2.3.0 in c:\\users\\aleksandr\\anaconda3\\lib\\site-packages (from scikit-image) (2.9.0)\n",
      "Requirement already satisfied: tifffile>=2019.7.26 in c:\\users\\aleksandr\\anaconda3\\lib\\site-packages (from scikit-image) (2021.3.31)\n",
      "Requirement already satisfied: PyWavelets>=1.1.1 in c:\\users\\aleksandr\\anaconda3\\lib\\site-packages (from scikit-image) (1.1.1)\n",
      "Requirement already satisfied: cycler>=0.10 in c:\\users\\aleksandr\\anaconda3\\lib\\site-packages (from matplotlib!=3.0.0,>=2.0.0->scikit-image) (0.10.0)\n",
      "Requirement already satisfied: python-dateutil>=2.1 in c:\\users\\aleksandr\\anaconda3\\lib\\site-packages (from matplotlib!=3.0.0,>=2.0.0->scikit-image) (2.8.1)\n",
      "Requirement already satisfied: pyparsing!=2.0.4,!=2.1.2,!=2.1.6,>=2.0.3 in c:\\users\\aleksandr\\anaconda3\\lib\\site-packages (from matplotlib!=3.0.0,>=2.0.0->scikit-image) (2.4.7)\n",
      "Requirement already satisfied: kiwisolver>=1.0.1 in c:\\users\\aleksandr\\anaconda3\\lib\\site-packages (from matplotlib!=3.0.0,>=2.0.0->scikit-image) (1.3.1)\n",
      "Requirement already satisfied: six in c:\\users\\aleksandr\\anaconda3\\lib\\site-packages (from cycler>=0.10->matplotlib!=3.0.0,>=2.0.0->scikit-image) (1.15.0)\n",
      "Requirement already satisfied: decorator>=4.3.0 in c:\\users\\aleksandr\\anaconda3\\lib\\site-packages (from networkx>=2.0->scikit-image) (5.0.5)\n",
      "Building wheels for collected packages: imutils\n",
      "  Building wheel for imutils (setup.py): started\n",
      "  Building wheel for imutils (setup.py): finished with status 'done'\n",
      "  Created wheel for imutils: filename=imutils-0.5.4-py3-none-any.whl size=25860 sha256=7facc28f57861954c40a459be5026f95172630775c4c7ec1eab50f7fcda5997e\n",
      "  Stored in directory: c:\\users\\aleksandr\\appdata\\local\\pip\\cache\\wheels\\86\\d7\\0a\\4923351ed1cec5d5e24c1eaf8905567b02a0343b24aa873df2\n",
      "Successfully built imutils\n",
      "Installing collected packages: opencv-python, imutils\n",
      "Successfully installed imutils-0.5.4 opencv-python-4.5.1.48\n"
     ]
    },
    {
     "name": "stderr",
     "output_type": "stream",
     "text": [
      "\"C:\\Program\" ­Ґ пў«пҐвбп ў­гваҐ­­Ґ© Ё«Ё ў­Ґи­Ґ©\n",
      "Є®¬ ­¤®©, ЁбЇ®«­пҐ¬®© Їа®Ја ¬¬®© Ё«Ё Ї ЄҐв­л¬ д ©«®¬.\n"
     ]
    }
   ],
   "source": [
    "# ! pip3 install scikit-image opencv-python imutils\n"
   ]
  },
  {
   "cell_type": "code",
   "execution_count": 3,
   "id": "a96a7b09",
   "metadata": {},
   "outputs": [
    {
     "ename": "NameError",
     "evalue": "name 'img' is not defined",
     "output_type": "error",
     "traceback": [
      "\u001b[1;31m---------------------------------------------------------------------------\u001b[0m",
      "\u001b[1;31mNameError\u001b[0m                                 Traceback (most recent call last)",
      "\u001b[1;32m<ipython-input-3-490507715706>\u001b[0m in \u001b[0;36m<module>\u001b[1;34m\u001b[0m\n\u001b[0;32m      4\u001b[0m \u001b[1;32mimport\u001b[0m \u001b[0mcv2\u001b[0m\u001b[1;33m\u001b[0m\u001b[1;33m\u001b[0m\u001b[0m\n\u001b[0;32m      5\u001b[0m \u001b[1;33m\u001b[0m\u001b[0m\n\u001b[1;32m----> 6\u001b[1;33m \u001b[1;33m(\u001b[0m\u001b[0mscore\u001b[0m\u001b[1;33m,\u001b[0m \u001b[0mdiff\u001b[0m\u001b[1;33m)\u001b[0m \u001b[1;33m=\u001b[0m \u001b[0mcompare_ssim\u001b[0m\u001b[1;33m(\u001b[0m\u001b[0mimg\u001b[0m\u001b[1;33m,\u001b[0m \u001b[0mres_INTER_NEAREST\u001b[0m\u001b[1;33m,\u001b[0m \u001b[0mfull\u001b[0m\u001b[1;33m=\u001b[0m\u001b[1;32mTrue\u001b[0m\u001b[1;33m,\u001b[0m \u001b[0mmultichannel\u001b[0m\u001b[1;33m=\u001b[0m\u001b[1;32mTrue\u001b[0m\u001b[1;33m)\u001b[0m\u001b[1;33m\u001b[0m\u001b[1;33m\u001b[0m\u001b[0m\n\u001b[0m\u001b[0;32m      7\u001b[0m \u001b[0mdiff\u001b[0m \u001b[1;33m=\u001b[0m \u001b[1;33m(\u001b[0m\u001b[0mdiff\u001b[0m \u001b[1;33m*\u001b[0m \u001b[1;36m255\u001b[0m\u001b[1;33m)\u001b[0m\u001b[1;33m.\u001b[0m\u001b[0mastype\u001b[0m\u001b[1;33m(\u001b[0m\u001b[1;34m\"uint8\"\u001b[0m\u001b[1;33m)\u001b[0m\u001b[1;33m\u001b[0m\u001b[1;33m\u001b[0m\u001b[0m\n\u001b[0;32m      8\u001b[0m \u001b[0mscore\u001b[0m\u001b[1;33m\u001b[0m\u001b[1;33m\u001b[0m\u001b[0m\n",
      "\u001b[1;31mNameError\u001b[0m: name 'img' is not defined"
     ]
    }
   ],
   "source": [
    "from skimage.measure import compare_ssim\n",
    "import argparse\n",
    "import imutils\n",
    "import cv2\n",
    "\n",
    "(score, diff) = compare_ssim(img, res_INTER_NEAREST, full=True, multichannel=True)\n",
    "diff = (diff * 255).astype(\"uint8\")\n",
    "score"
   ]
  },
  {
   "cell_type": "code",
   "execution_count": 4,
   "id": "9224000d",
   "metadata": {
    "scrolled": true
   },
   "outputs": [
    {
     "name": "stdout",
     "output_type": "stream",
     "text": [
      "257\n"
     ]
    }
   ],
   "source": [
    "files = os.listdir(path=\"./pan\")  \n",
    "print(len(files))"
   ]
  },
  {
   "cell_type": "code",
   "execution_count": 45,
   "id": "b9b086bc",
   "metadata": {},
   "outputs": [
    {
     "name": "stderr",
     "output_type": "stream",
     "text": [
      "C:\\Users\\Aleksandr\\Anaconda3\\lib\\site-packages\\ipykernel_launcher.py:55: UserWarning: DEPRECATED: skimage.measure.compare_ssim has been moved to skimage.metrics.structural_similarity. It will be removed from skimage.measure in version 0.18.\n",
      "C:\\Users\\Aleksandr\\Anaconda3\\lib\\site-packages\\ipykernel_launcher.py:56: UserWarning: DEPRECATED: skimage.measure.compare_ssim has been moved to skimage.metrics.structural_similarity. It will be removed from skimage.measure in version 0.18.\n",
      "C:\\Users\\Aleksandr\\Anaconda3\\lib\\site-packages\\ipykernel_launcher.py:58: UserWarning: DEPRECATED: skimage.measure.compare_ssim has been moved to skimage.metrics.structural_similarity. It will be removed from skimage.measure in version 0.18.\n"
     ]
    },
    {
     "name": "stdout",
     "output_type": "stream",
     "text": [
      "Cubic PSNR : 35.49653662962487\n",
      "Cubic SSIM : 0.9602639527433899\n",
      "Lanz filter PSNR : 34.994000264982986\n",
      "Lanz filter SSIM : 0.953809382850119\n"
     ]
    }
   ],
   "source": [
    "Loss_cubic_PSNR = []\n",
    "Loss_lanz_PSNR = []\n",
    "\n",
    "Loss_cubic_SSIM = []\n",
    "Loss_lanz_SSIM = []\n",
    "\n",
    "# Loss_3_PSNR = []\n",
    "# Loss_7_PSNR = []\n",
    "# Loss_11_PSNR = []\n",
    "\n",
    "# Loss_3_SSIM = []\n",
    "# Loss_7_SSIM = []\n",
    "# Loss_11_SSIM = []\n",
    "\n",
    "for file in os.listdir(path=\"./pan\") : \n",
    "    path =\"./pan\"+\"/\"+file\n",
    "#     print(path) \n",
    "\n",
    "    img  = cv2.imread(path, mono) \n",
    "    koeff  =  2 \n",
    "    w = img.shape[1]\n",
    "    \n",
    "    res_img_cubic = resizing(img, new_width = int( w/koeff ),interp = cv2.INTER_CUBIC)\n",
    "    res_img_lanz = resizing(img, new_width = int( w/koeff ),interp = cv2.INTER_LANCZOS4)\n",
    "    \n",
    "    img_blur_3 = cv2.GaussianBlur(img, (3, 3), 0)\n",
    "    img_blur_7 = cv2.GaussianBlur(img, (7, 7), 0)\n",
    "    img_blur_11 = cv2.GaussianBlur(img, (11, 11), 0)\n",
    "    \n",
    "    res_INTER_NEAREST_3 = resizing(img_blur_3, new_width = int(w/koeff),interp = cv2.INTER_NEAREST)\n",
    "    res_INTER_NEAREST_7= resizing(img_blur_7, new_width = int(w/koeff),interp = cv2.INTER_NEAREST)\n",
    "    res_INTER_NEAREST_11 = resizing(img_blur_11, new_width = int(w/koeff),interp = cv2.INTER_NEAREST)\n",
    "\n",
    "#     Loss_cubic_PSNR.append(cv2.PSNR(img, res_img_cubic))\n",
    "#     Loss_lanz_PSNR.append(cv2.PSNR(img, res_img_lanz))\n",
    "    \n",
    "#     Loss_3_PSNR.append(cv2.PSNR(img, res_INTER_NEAREST_3))\n",
    "#     Loss_7_PSNR.append(cv2.PSNR(img, res_INTER_NEAREST_7))\n",
    "#     Loss_11_PSNR.append(cv2.PSNR(img, res_INTER_NEAREST_11))\n",
    "    \n",
    "    \n",
    "#     Loss_cubic_SSIM.append(compare_ssim(img, res_img_cubic, full=True, multichannel=False)[1])\n",
    "#     Loss_lanz_SSIM.append(compare_ssim(img, res_img_lanz, full=True, multichannel=False)[1])\n",
    "    \n",
    "#     Loss_3_SSIM.append(compare_ssim(img, res_INTER_NEAREST_3, full=True, multichannel=False)[1] )\n",
    "#     Loss_7_SSIM.append(compare_ssim(img, res_INTER_NEAREST_7, full=True, multichannel=False)[1] )\n",
    "#     Loss_11_SSIM.append(compare_ssim(img, res_INTER_NEAREST_11, full=True, multichannel=False)[1] )\n",
    "    \n",
    "    res_rec_cubic = resizing(res_img_cubic, new_width = w, interp = cv2.INTER_CUBIC)\n",
    "    res_rec_lanz = resizing(res_img_lanz, new_width = w, interp = cv2.INTER_LANCZOS4)\n",
    "    \n",
    "    Loss_cubic_PSNR.append(cv2.PSNR(img, res_rec_cubic))\n",
    "    Loss_lanz_PSNR.append(cv2.PSNR(img, res_rec_lanz))\n",
    "    \n",
    "    Loss_cubic_SSIM.append(compare_ssim(img, res_rec_cubic, full=True, multichannel=False)[0])\n",
    "    Loss_lanz_SSIM.append(compare_ssim(img, res_rec_lanz, full=True, multichannel=False)[0])\n",
    "    \n",
    "    (score, diff) = compare_ssim(img, img, full=True, multichannel=False) \n",
    "#     diff = (diff * 255).astype(\"uint8\")\n",
    "#     print(cv2.PSNR(img, img))\n",
    "\n",
    "print(\"Cubic PSNR :\", sum(Loss_cubic_PSNR) / len(Loss_cubic_PSNR)) \n",
    "print(\"Cubic SSIM :\", sum(Loss_cubic_SSIM) / len(Loss_cubic_SSIM))\n",
    "\n",
    "print(\"Lanz filter PSNR :\",sum(Loss_lanz_PSNR) / len(Loss_lanz_PSNR))\n",
    "print(\"Lanz filter SSIM :\",sum(Loss_lanz_SSIM) / len(Loss_cubic_SSIM))\n",
    "    \n",
    "    "
   ]
  },
  {
   "cell_type": "code",
   "execution_count": null,
   "id": "7de7981a",
   "metadata": {},
   "outputs": [],
   "source": [
    "# import cv2\n",
    "# import numpy as np\n",
    "# from matplotlib import pyplot as plt\n",
    "# plt.figure(figsize=(15,12))\n",
    "\n",
    "# plt.subplot(121)\n",
    "# plt.imshow(img,cmap = 'gray')\n",
    "# plt.title('Original Image')\n",
    "\n",
    "# plt.subplot(122)\n",
    "# plt.imshow(res,cmap = 'gray')\n",
    "# plt.title('Downsampled Image')\n",
    "\n",
    "# plt.show()"
   ]
  },
  {
   "cell_type": "markdown",
   "id": "3e4fd92e",
   "metadata": {},
   "source": [
    "## Проект :\n"
   ]
  },
  {
   "cell_type": "code",
   "execution_count": 4,
   "id": "ff0cb627",
   "metadata": {},
   "outputs": [],
   "source": [
    "def grad( img, i, j): # h w \n",
    "    h  = 1\n",
    "    if img.shape[0] > i + h and 0 <= i - h:\n",
    "        grad_y = img[ i+h , j]  - img[ i-h, j]\n",
    "        grad_y /=2\n",
    "        \n",
    "    elif img.shape[0] > i + h:\n",
    "        grad_y = img[ i+h , j]  - img[ i, j]\n",
    "        \n",
    "    elif 0 <= i - h : \n",
    "        grad_y =  img[ i, j]  - img[ i-h, j]\n",
    "            \n",
    "    if img.shape[1] > j + h and 0 <= j - h:\n",
    "        grad_x = img[ i , j+h]  - img[ i, j-h] \n",
    "        grad_x /=2\n",
    "        \n",
    "    elif img.shape[1] > j + h:\n",
    "        grad_x = img[ i , j+h]  - img[ i, j]\n",
    "        \n",
    "    elif 0 <= j - h : \n",
    "        grad_x =  img[ i, j]  - img[ i, j-h]\n",
    "        \n",
    "    return grad_x, grad_y\n",
    "        \n"
   ]
  },
  {
   "cell_type": "code",
   "execution_count": 6,
   "id": "ed418a36",
   "metadata": {},
   "outputs": [
    {
     "data": {
      "text/plain": [
       "(8, 2)"
      ]
     },
     "execution_count": 6,
     "metadata": {},
     "output_type": "execute_result"
    }
   ],
   "source": [
    "window = 3 \n",
    "num_ang = window**2 -1 \n",
    "angle= [ 2*mt.pi/num_ang*i for i in range(num_ang) ]\n",
    "# angle = np.array(list(map(lambda a :{'cos' : mt.cos(a), 'sin': mt.sin(a)}, angle ))) \n",
    "angle = np.array(list(map(lambda a : np.array([mt.cos(a), mt.sin(a)]), angle ))) \n",
    "angle.shape"
   ]
  },
  {
   "cell_type": "code",
   "execution_count": 12,
   "id": "f48a5ad7",
   "metadata": {},
   "outputs": [
    {
     "name": "stdout",
     "output_type": "stream",
     "text": [
      "Origin : (485, 727)\n",
      "\n",
      "Size of recovered pic : (484, 726)\n"
     ]
    },
    {
     "name": "stderr",
     "output_type": "stream",
     "text": [
      "C:\\Users\\Aleksandr\\Anaconda3\\lib\\site-packages\\ipykernel_launcher.py:40: RuntimeWarning: invalid value encountered in double_scalars\n"
     ]
    },
    {
     "data": {
      "text/plain": [
       "array([[158. , 132. , 106. , ...,  79. ,  79. ,  79. ],\n",
       "       [165.5, 148. , 137. , ...,  96. ,  98. ,   0. ],\n",
       "       [173. , 170.5, 168. , ..., 116.5, 117. , 117. ],\n",
       "       ...,\n",
       "       [ 27.5,  22. ,  18.5, ..., 122. , 112.5,   0. ],\n",
       "       [ 28. ,  23. ,  18. , ..., 133.5, 115. , 115. ],\n",
       "       [ 28. ,   0. ,  18. , ...,   0. , 115. ,   0. ]])"
      ]
     },
     "execution_count": 12,
     "metadata": {},
     "output_type": "execute_result"
    }
   ],
   "source": [
    "# img  = cv2.imread('./pan/0002.png', mono) \n",
    "\n",
    "img  = cv2.imread('./map_from.jpg', mono) \n",
    "print(\"Origin :\",img.shape) \n",
    "h = img.shape[0]\n",
    "w = img.shape[1]\n",
    "koeff  =  2 \n",
    "# res_img_cubic = resizing(img, new_width = int(w/koeff),interp = cv2.INTER_CUBIC)\n",
    "res_img_lanz = resizing(img, new_width = int(w/koeff),interp = cv2.INTER_LANCZOS4)\n",
    "print()\n",
    "new = np.zeros((np.array(res_img_lanz.shape)*koeff)) # increase the size to the original\n",
    "grad_x = np.zeros((np.array(res_img_lanz.shape)*koeff)) \n",
    "grad_y = np.zeros((np.array(res_img_lanz.shape)*koeff))\n",
    "wt = np.empty([res_img_lanz.shape[0]*koeff, res_img_lanz.shape[1]*koeff, window,window ])\n",
    "\n",
    "w = new.shape[1]\n",
    "h = new.shape[0]\n",
    "print(\"Size of recovered pic :\", new.shape)\n",
    "ind  =  np.indices(new.shape)\n",
    "# for i, n in enumerate(ind):\n",
    "#     print(i)\n",
    "new[::2, ::2] = res_img_lanz  # заполнили опорные значения. \n",
    "new1 = new.copy()\n",
    "\n",
    "for i in range(h):\n",
    "    for j in range((i+1)&1, w , 2):\n",
    "        assert new1[i,j] == 0\n",
    "        if (i+1 < h) and (j+1 < w):\n",
    "            new1[i,j] = (new[i, j-1] + new[i,j+1])/2*((i+1) & 1) +(new[i-1, j] + new[i+1,j])/2 *((i) & 1) \n",
    "        else: \n",
    "            new1[i,j] = new[i, j-1] *((i+1) & 1) + new[i-1, j] *((i) & 1) \n",
    "for i in range(1, h - 1, 2):\n",
    "    for j in range (1, w - 1, 2):\n",
    "#         print(new[i,j])\n",
    "        grad_x[i, j],  grad_y[i, j] = grad( new1,i,j)\n",
    "        new_wt = abs(angle @ np.array( [-grad_y[i, j],  grad_x[i, j] ]).reshape((2, 1)) ).reshape(window**2-1,) \n",
    "# получим непостредственно маску коэффициентов\n",
    "        wt[i,j] = np.insert(new_wt, 4 ,  0).reshape((window,window))\n",
    "#       тогда значение самой ячейки :\n",
    "        new1[i,j] = ((wt[i,j]*new1[(i-1):(i+2),(j-1):(j+2)]).sum() //(abs(wt[i,j]).sum())).astype(np.uint8)\n",
    "        new1[i,j] = int(new1[i,j])\n",
    "         \n",
    "new1 "
   ]
  },
  {
   "cell_type": "code",
   "execution_count": 26,
   "id": "9b3afbb1",
   "metadata": {
    "scrolled": true
   },
   "outputs": [
    {
     "data": {
      "text/plain": [
       "array([[1, 3]])"
      ]
     },
     "execution_count": 26,
     "metadata": {},
     "output_type": "execute_result"
    }
   ],
   "source": [
    "# np.array(res_img_lanz.shape)*2 \n",
    "a= np.array([[1,2,3,4],[5,6,7,8]])[::2,::2]\n",
    "a "
   ]
  },
  {
   "cell_type": "code",
   "execution_count": 121,
   "id": "49af9e4e",
   "metadata": {},
   "outputs": [
    {
     "name": "stdout",
     "output_type": "stream",
     "text": [
      "[[  0.         110.48543456 237.5       ]\n",
      " [  0.           0.          57.        ]\n",
      " [  0.          61.75        59.75052301]]\n",
      "[[3.         8.83883476 9.5       ]\n",
      " [4.59619408 0.         3.        ]\n",
      " [8.83883476 9.5        4.59619408]]\n",
      "[[ 0.  12.5 25. ]\n",
      " [ 0.  10.  19. ]\n",
      " [ 0.   6.5 13. ]]\n"
     ]
    },
    {
     "data": {
      "text/plain": [
       "1.326161102193102"
      ]
     },
     "execution_count": 121,
     "metadata": {},
     "output_type": "execute_result"
    }
   ],
   "source": [
    "grad_x\n",
    "type(wt[1,1])#.shape  \n",
    "i = 1\n",
    "j = 1\n",
    "type(new1[(i-1):(i+2),(j-1):(j+2)]) \n",
    "print(wt[i,j]*new1[(i-1):(i+2),(j-1):(j+2)])\n",
    "print(wt[i,j])\n",
    "print(new1[(i-1):(i+2),(j-1):(j+2)])\n",
    "(wt[i,j]*new1[(i-1):(i+2),(j-1):(j+2)]).sum()/((wt[i,j]**2).sum()) \n",
    "\n"
   ]
  },
  {
   "cell_type": "code",
   "execution_count": 39,
   "id": "0e9f05a6",
   "metadata": {
    "scrolled": true
   },
   "outputs": [
    {
     "name": "stdout",
     "output_type": "stream",
     "text": [
      "[[ 6  7  8]\n",
      " [11 12 13]\n",
      " [16 17 18]]\n",
      "[[ 0  1  2  3  4]\n",
      " [ 5  6  7  8  9]\n",
      " [10 11 12 13 14]\n",
      " [15 16 17 18 19]\n",
      " [20 21 22 23 24]]\n"
     ]
    }
   ],
   "source": [
    "a =np.array([ i for i in range(25)]).reshape((5, 5))\n",
    "i = 2\n",
    "j = 2\n",
    "print(a[(i-1):(i+2),(j-1):(j+2)])\n",
    "print(a )"
   ]
  },
  {
   "cell_type": "code",
   "execution_count": 73,
   "id": "94bc269d",
   "metadata": {},
   "outputs": [
    {
     "data": {
      "text/plain": [
       "array([[1, 1, 1, 1, 1],\n",
       "       [1, 1, 1, 1, 1],\n",
       "       [1, 1, 1, 1, 1],\n",
       "       [1, 1, 1, 1, 1],\n",
       "       [1, 1, 1, 1, 1]])"
      ]
     },
     "execution_count": 73,
     "metadata": {},
     "output_type": "execute_result"
    }
   ],
   "source": [
    "a =np.array([ (-1)**(i)  for i in range(25)]).reshape((5, 5))\n",
    "abs(a) "
   ]
  },
  {
   "cell_type": "code",
   "execution_count": 27,
   "id": "afad76a0",
   "metadata": {},
   "outputs": [],
   "source": [
    "cv2.imwrite('sthNEW.jpg', new1) \n",
    "res_rec_cubic = resizing(img, new_width = w, interp = cv2.INTER_CUBIC)\n",
    "res_rec_lanz = resizing(img, new_width = w, interp = cv2.INTER_LANCZOS4)"
   ]
  },
  {
   "cell_type": "code",
   "execution_count": 31,
   "id": "731c629a",
   "metadata": {
    "scrolled": true
   },
   "outputs": [
    {
     "name": "stdout",
     "output_type": "stream",
     "text": [
      "<class 'numpy.uint8'>\n",
      "<class 'numpy.float64'>\n",
      "(485, 727)\n",
      "(484, 726)\n",
      "0.5643371950066568\n",
      "0.8042662841935514\n",
      "0.7998376111303106\n",
      "21.551952905931373\n",
      "24.794913601596807\n",
      "24.693441372549643\n",
      "Same Image\n"
     ]
    },
    {
     "name": "stderr",
     "output_type": "stream",
     "text": [
      "C:\\Users\\Aleksandr\\Anaconda3\\lib\\site-packages\\ipykernel_launcher.py:7: UserWarning: DEPRECATED: skimage.measure.compare_ssim has been moved to skimage.metrics.structural_similarity. It will be removed from skimage.measure in version 0.18.\n",
      "  import sys\n",
      "C:\\Users\\Aleksandr\\Anaconda3\\lib\\site-packages\\ipykernel_launcher.py:9: UserWarning: DEPRECATED: skimage.measure.compare_ssim has been moved to skimage.metrics.structural_similarity. It will be removed from skimage.measure in version 0.18.\n",
      "  if __name__ == '__main__':\n",
      "C:\\Users\\Aleksandr\\Anaconda3\\lib\\site-packages\\ipykernel_launcher.py:11: UserWarning: DEPRECATED: skimage.measure.compare_ssim has been moved to skimage.metrics.structural_similarity. It will be removed from skimage.measure in version 0.18.\n",
      "  # This is added back by InteractiveShellApp.init_path()\n"
     ]
    }
   ],
   "source": [
    "# cv2.PSNR(img, new1)\n",
    "print(type(img[1,1]))  \n",
    "print(type(new1[1,1])) \n",
    "print(img.shape)\n",
    "print(new1.shape)\n",
    "print( compare_ssim(img[2:new1.shape[0] - 2, 2:new1.shape[1] - 2 ], new1[2:new1.shape[0] - 2, 2:new1.shape[1] - 2 ],\n",
    "             full=True, multichannel=False)[0] )\n",
    "print( compare_ssim(img[2:new1.shape[0] - 2, 2:new1.shape[1] - 2 ], res_rec_cubic[2:new1.shape[0] - 2, 2:new1.shape[1] - 2 ],\n",
    "             full=True, multichannel=False)[0] )\n",
    "print( compare_ssim(img[2:new1.shape[0] - 2, 2:new1.shape[1] - 2 ], res_rec_lanz[2:new1.shape[0] - 2, 2:new1.shape[1] - 2 ],\n",
    "             full=True, multichannel=False)[0] )\n",
    "print( PSNR(img[2:new1.shape[0] - 2, 2:new1.shape[1] - 2 ], new1[2:new1.shape[0] - 2, 2:new1.shape[1] - 2 ]))\n",
    "# print( cv2.PSNR(img[2:new1.shape[0] - 2, 2:new1.shape[1] - 2 ], new1[2:new1.shape[0] - 2, 2:new1.shape[1] - 2 ]))\n",
    "print( PSNR(img[2:new1.shape[0] - 2, 2:new1.shape[1] - 2 ], res_rec_cubic[2:new1.shape[0] - 2, 2:new1.shape[1] - 2 ]))\n",
    "print( PSNR(img[2:new1.shape[0] - 2, 2:new1.shape[1] - 2 ], res_rec_lanz[2:new1.shape[0] - 2, 2:new1.shape[1] - 2 ]))\n",
    "print( PSNR(img, img)) \n",
    "# img.type()"
   ]
  },
  {
   "cell_type": "code",
   "execution_count": 8,
   "id": "c332d24a",
   "metadata": {},
   "outputs": [
    {
     "name": "stdout",
     "output_type": "stream",
     "text": [
      "[[-1.   0.5  0.5 -1.   0.5]\n",
      " [-1.5  0.5  1.  -0.5  0.5]\n",
      " [-2.  -0.5  1.   1.   1. ]\n",
      " [-1.   0.  -0.5  1.5  1.5]\n",
      " [ 0.   0.5 -1.  -0.5  1. ]]\n",
      "[[ 1.  -0.5 -0.5  1.  -0.5]\n",
      " [ 1.5 -0.5 -1.   0.5 -0.5]\n",
      " [ 2.   0.5 -1.  -1.  -1. ]\n",
      " [ 1.   0.   0.5 -1.5 -1.5]\n",
      " [ 0.  -0.5  1.   0.5 -1. ]]\n"
     ]
    }
   ],
   "source": [
    "b=np.asarray([[1,2,0,1,2],\n",
    "              [2,3,1,1,2],\n",
    "              [1,4,2,2,0],\n",
    "              [3,2,3,3,0],\n",
    "              [1,0,0,2,1]\n",
    "              ], dtype=np.float32)\n",
    "\n",
    "# w=np.asarray([[1,1,1],\n",
    "#               [1,1,2],\n",
    "#               [2,1,1]], dtype=np.uint8)\n",
    "\n",
    "w=np.asarray([[1,0,0],\n",
    "              [0,0,0],\n",
    "              [0,0,0]], dtype=np.uint8)\n",
    "\n",
    "dx = np.asarray([[0,0,0],\n",
    "                 [-0.5,0,0.5],\n",
    "                 [0,0,0]], dtype=np.float32)\n",
    "\n",
    "dy = np.asarray([[0,-0.5,0],\n",
    "                 [0 , 0, 0],\n",
    "                 [0 , 0.5,0]], dtype=np.float32)\n",
    "\n",
    "\n",
    "print(sig.convolve2d(b, dx, mode=\"same\"))\n",
    "# print(\"-------\")\n",
    "# print(cv2.filter2D(b, -1, cv2.flip(w, -1), borderType=cv2.BORDER_CONSTANT))\n",
    "# print(\"-------\")\n",
    "print(cv2.filter2D(b, -1, dx, borderType=cv2.BORDER_CONSTANT))"
   ]
  },
  {
   "cell_type": "code",
   "execution_count": 11,
   "id": "102e882d",
   "metadata": {},
   "outputs": [
    {
     "data": {
      "text/plain": [
       "array([[0, 0, 0],\n",
       "       [0, 0, 0],\n",
       "       [0, 0, 1]], dtype=uint8)"
      ]
     },
     "execution_count": 11,
     "metadata": {},
     "output_type": "execute_result"
    }
   ],
   "source": [
    "cv2.flip(w, -1)\n",
    "# 0, for flipping the image around the x-axis (vertical flipping);\n",
    "# > 0 for flipping around the y-axis (horizontal flipping);\n",
    "# < 0 for flipping around both axes."
   ]
  },
  {
   "cell_type": "code",
   "execution_count": 9,
   "id": "13e109e2",
   "metadata": {},
   "outputs": [],
   "source": [
    "tweight = np.uint8\n",
    "# Sobel \n",
    "dx_s =np.asarray([[-1, -2, -1],\n",
    "                  [0, 0, 0],\n",
    "                  [1, 2, 1]], dtype=tweight)\n",
    "\n",
    "dy_s =np.asarray([[-1, 0, 1],\n",
    "                  [-2, 0, 2],\n",
    "                  [-1, 0, 1]], dtype=tweight)\n",
    "\n",
    "# Previtt\n",
    "dx_p =np.asarray([[-1, -1, -1],\n",
    "                  [0, 0, 0],\n",
    "                  [1, 1, 1]], dtype=tweight)\n",
    "\n",
    "dy_p =np.asarray([[-1, 0, 1],\n",
    "                  [-1, 0, 1],\n",
    "                  [-1, 0, 1]], dtype=tweight)\n",
    "# sharra\n",
    "dx_sh =np.asarray([[+3, 10, 3],\n",
    "                  [0, 0, 0],\n",
    "                  [-3, 10, -3]], dtype=tweight)\n",
    "\n",
    "dy_sh =np.asarray([[3, 0, -3],\n",
    "                  [10, 0, -10],\n",
    "                  [3, 0, -3]], dtype=tweight)\n"
   ]
  },
  {
   "cell_type": "code",
   "execution_count": 15,
   "id": "90b837ff",
   "metadata": {
    "scrolled": true
   },
   "outputs": [
    {
     "name": "stdout",
     "output_type": "stream",
     "text": [
      "253\n"
     ]
    },
    {
     "data": {
      "text/plain": [
       "True"
      ]
     },
     "execution_count": 15,
     "metadata": {},
     "output_type": "execute_result"
    }
   ],
   "source": [
    "# img  = cv2.imread('./map_from.jpg', mono) \n",
    "# 0 - черный,255 - белый.\n",
    "img  = cv2.imread('./pan/0002.png', mono)\n",
    "img.shape\n",
    "type(img)\n",
    "img_weight_x = cv2.filter2D(img, -1, dx_sh, borderType=cv2.BORDER_CONSTANT)\n",
    "img_weight_y = cv2.filter2D(img, -1, dy_sh,  borderType=cv2.BORDER_CONSTANT)\n",
    "img_weight =  (img_weight_x**2+img_weight_y**2)**0.5\n",
    "cv2.imwrite('img_weight.jpg', img_weight)\n",
    "cv2.imwrite('img_weight_x.jpg', img_weight_x)\n",
    "cv2.imwrite('img_weight_y.jpg', img_weight_y)\n",
    "zeros = np.ones_like( img_weight_x )*255\n",
    "cv2.imwrite('zeros.jpg', zeros )\n",
    "img_weight  = np.array((np.array(img_weight_x, dtype = np.uint16)**2+np.array(img_weight_y, dtype = np.uint16)**2)**0.5, dtype = np.uint8)\n",
    "c\n"
   ]
  },
  {
   "cell_type": "code",
   "execution_count": 16,
   "id": "aefebd12",
   "metadata": {},
   "outputs": [
    {
     "name": "stdout",
     "output_type": "stream",
     "text": [
      "(4, 256, 256)\n"
     ]
    },
    {
     "name": "stderr",
     "output_type": "stream",
     "text": [
      "C:\\Users\\Aleksandr\\Anaconda3\\lib\\site-packages\\ipykernel_launcher.py:27: RuntimeWarning: invalid value encountered in floor_divide\n"
     ]
    },
    {
     "name": "stdout",
     "output_type": "stream",
     "text": [
      "<class 'numpy.ndarray'>\n",
      "<class 'numpy.ndarray'>\n",
      "(4, 512, 512)\n"
     ]
    },
    {
     "name": "stderr",
     "output_type": "stream",
     "text": [
      "C:\\Users\\Aleksandr\\Anaconda3\\lib\\site-packages\\ipykernel_launcher.py:66: RuntimeWarning: invalid value encountered in double_scalars\n"
     ]
    }
   ],
   "source": [
    "def recover(img, w = 512, h = 512, num_angles = 4, flter  = dx_sh ):\n",
    "    new = np.zeros((h,w)) # increase the size to the original\n",
    "    new_x = np.copy(new)\n",
    "    new_y = np.copy(new)\n",
    "    new_o = np.zeros_like(img)\n",
    "    conv =np.asarray([[0, 0, 0],\n",
    "                  [0, 0.25, 0.25],\n",
    "                  [0, 0.25, 0.25]], dtype=np.float32)\n",
    "    \n",
    "    img_weight_x = cv2.filter2D(img, -1, flter, borderType=cv2.BORDER_CONSTANT)\n",
    "    img_weight_y = cv2.filter2D(img, -1, flter,  borderType=cv2.BORDER_CONSTANT)\n",
    "# будем считать, что градиент в цетральной точке o равен 1/4( sum градинетов в ближайших точках)\n",
    "    grad_x = cv2.filter2D(img_weight_x, -1, conv, borderType=cv2.BORDER_CONSTANT)\n",
    "    grad_y = cv2.filter2D(img_weight_y, -1, conv, borderType=cv2.BORDER_CONSTANT)\n",
    "\n",
    "    angle= [ 2*mt.pi/num_angles*i for i in range(num_angles) ]\n",
    "    # angle = np.array(list(map(lambda a :{'cos' : mt.cos(a), 'sin': mt.sin(a)}, angle ))) \n",
    "    angle = np.array(list(map(lambda a : np.array([mt.cos(a), mt.sin(a)]), angle ))) \n",
    "#     wt = np.zeros((num_angles, h, w))\n",
    "    wt = np.array(list(map(lambda a:  abs(- a[0]*grad_y + a[1]*grad_x), angle )))\n",
    "    print(wt.shape)\n",
    "#     ВИНМАТЕЛЬНО С РАЗМЕРОМ МАТРИЦЫ ВЕСОВ, она здесь статична \n",
    "    Wt = np.array([np.asarray( i.reshape((2,2)), dtype = np.float32)  for i in wt.reshape(num_angles,wt.shape[1]*wt.shape[2]).transpose(1,0)]).reshape((wt.shape[1],wt.shape[2],2,2))\n",
    "    for i in range(new_o.shape[0] - 1):\n",
    "        for j in range (new_o.shape[1] - 1 ):\n",
    "#             new_o[i,j] = (img[i:i+2,j:j+2] * Wt[i,j]).sum()  // ( (Wt[i,j]**2).sum())**0.5\n",
    "            o = (img[i:i+2,j:j+2] * Wt[i,j]).sum()  // ( (Wt[i,j]**2).sum())**0.5\n",
    "            if np.isnan(o): \n",
    "#                 print(\"Числитель :\", (img[i:i+2,j:j+2] * Wt[i,j]).sum())\n",
    "#                 print(\"Знаменатель :\",( Wt[i,j]))\n",
    "                new_o[i,j] = np.mean(img[i:i+2,j:j+2])\n",
    "#                 img[i,j] = 255\n",
    "            else:\n",
    "                new_o[i,j] = o\n",
    "\n",
    "    img_weight_x_o = cv2.filter2D(new_o, -1, flter, borderType=cv2.BORDER_CONSTANT)\n",
    "    img_weight_y_o = cv2.filter2D(new_o, -1, flter,  borderType=cv2.BORDER_CONSTANT)\n",
    "    \n",
    "    conx =np.asarray([[0, 0.25, 0],\n",
    "                  [0.25, 0, 0.25],\n",
    "                  [0, 0.25, 0]], dtype=np.float32)\n",
    "\n",
    "    for i in range(h):\n",
    "        for j in range( i & 1 , w, 2):\n",
    "            new[i, j] = (i & 1)*new_o[ i//2, j//2] + ( (i+1) & 1)*img[i//2, j//2]\n",
    "            new_x[i, j] = (i & 1)*img_weight_x_o[ i//2, j//2] + ( (i+1) & 1)*img_weight_x[i//2, j//2]\n",
    "            new_y[i, j] =(i & 1)*img_weight_y_o[ i//2, j//2] + ( (i+1) & 1)*img_weight_y[i//2, j//2]\n",
    "            \n",
    "    print(type(new_x))\n",
    "    print(type(new_y))\n",
    "            \n",
    "    grad_x = cv2.filter2D(new_x, -1, conx, borderType=cv2.BORDER_CONSTANT)\n",
    "    grad_y = cv2.filter2D(new_y, -1, conx, borderType=cv2.BORDER_CONSTANT)\n",
    "    \n",
    "    num_angles_x  = 4 \n",
    "    angle_x = [ 2*mt.pi/num_angles*i for i in range(num_angles_x) ]\n",
    "    angle_x = np.array(list(map(lambda a : np.array([mt.cos(a), mt.sin(a)]), angle_x )))\n",
    "#     num_angles * h *w\n",
    "    wt = np.array(list(map(lambda a:  abs(- a[0]*grad_y + a[1]*grad_x), angle_x )))\n",
    "    print(wt.shape)\n",
    "    for i in range(h-1):\n",
    "        for j in range(((i+1) & 1 ), w-1, 2 ):\n",
    "            for k in range(num_angles_x):\n",
    "                participating = np.array([new[i,j+1],new[i-1,j], new[i,j-1], new[i+1,j]])\n",
    "                weight = wt[:, i, j]\n",
    "                new[i,j] = np.sum(weight*participating)// ((weight**2).sum())\n",
    "# \n",
    "#                 new[i,j] = \n",
    "              \n",
    "            \n",
    "    \n",
    "#     avconv =np.asarray([[0, 0.25, 0],\n",
    "#                   [0.25, 0, 0.25],\n",
    "#                   [0, 0.25, 0]], dtype=np.float32)\n",
    "    \n",
    "#     new = cv2.filter2D(new, -1, avconv, borderType=cv2.BORDER_CONSTANT)\n",
    "    cv2.imwrite(\"new.jpg\", new)\n",
    "    \n",
    "                \n",
    "\n",
    "#             print(( (Wt[i,j]**2).sum())**0.5)\n",
    "\n",
    "koeff = 2    \n",
    "img = cv2.imread('./pan/0002.png', mono)\n",
    "img_lanz = resizing(img, new_width = int(img.shape[1]/koeff),interp = cv2.INTER_LANCZOS4)\n",
    "recover(img_lanz)\n",
    "# print(img.shape )\n"
   ]
  },
  {
   "cell_type": "code",
   "execution_count": null,
   "id": "61f872c3",
   "metadata": {},
   "outputs": [],
   "source": [
    "import cv2\n",
    "import numpy as np \n",
    "import math as mt\n",
    "import os \n",
    "from skimage.measure import compare_ssim\n",
    "import argparse\n",
    "import imutils\n",
    "import scipy.signal as sig"
   ]
  },
  {
   "cell_type": "code",
   "execution_count": null,
   "id": "f953143a",
   "metadata": {},
   "outputs": [],
   "source": [
    "mono = cv2.IMREAD_GRAYSCALE\n",
    "poly = cv2.IMREAD_COLOR\n",
    "path1 ='./pan/"
   ]
  },
  {
   "cell_type": "markdown",
   "id": "2e8bc53c",
   "metadata": {},
   "source": [
    "## Скачаем изображения в высоком качестве : \n"
   ]
  },
  {
   "cell_type": "code",
   "execution_count": 24,
   "id": "6707c211",
   "metadata": {},
   "outputs": [
    {
     "data": {
      "text/plain": [
       "(257, 512, 512)"
      ]
     },
     "execution_count": 24,
     "metadata": {},
     "output_type": "execute_result"
    }
   ],
   "source": [
    "img = np.zeros((len(os.listdir(path=\"./pan\") ), 512, 512))\n",
    "i = 0\n",
    "for file in os.listdir(path=\"./pan\") : \n",
    "    path =\"./pan\"+\"/\"+file\n",
    "    img[i,:,:] = cv2.imread(path, mono) \n",
    "    i+=1 \n",
    "img.shape"
   ]
  },
  {
   "cell_type": "markdown",
   "id": "1ffeee27",
   "metadata": {},
   "source": [
    " # Создадим размытую тестовую выборку :"
   ]
  },
  {
   "cell_type": "code",
   "execution_count": 8,
   "id": "10e7cdbe",
   "metadata": {},
   "outputs": [],
   "source": [
    "# функция загрузки и показа изображения. \n",
    "def loading_displaying_saving( path, colour = mono ):\n",
    "    img = cv2.imread(path, colour)\n",
    "    cv2.imshow(path, img)\n",
    "    cv2.waitKey(0)\n",
    "\n",
    "    \n",
    "#уменьшение  размера некоторым интервалам \n",
    "def resizing(img, new_width=None, new_height=None, interp=cv2.INTER_LINEAR):\n",
    "    h, w = img.shape[:2]\n",
    "# проверка на наличие изменений\n",
    "    if new_width is None and new_height is None:\n",
    "        return img\n",
    "    else:\n",
    "# если задана только новая высота.\n",
    "        if new_width is None:\n",
    "            ratio = new_height / h\n",
    "            dimension = (int(w * ratio), new_height)\n",
    "\n",
    "        else:\n",
    "            ratio = new_width / w\n",
    "            dimension = (new_width, int(h * ratio))\n",
    "\n",
    "        res_img = cv2.resize(img, dimension, interpolation=interp)\n",
    "        return res_img \n",
    "\n",
    "def sampling(img,  size = 2 ):\n",
    "    if len(img.shape)  == 2:\n",
    "        new = np.zeros((img.shape[0]//size,img.shape[1]//size))\n",
    "#         print(new.shape)\n",
    "    if len(img.shape)  == 3:\n",
    "        new = np.zeros((img.shape[0]//size,img.shape[1]//size, img.shape[3]))\n",
    "    for i in range(size//2,img.shape[0] - size//2, size): \n",
    "        for j in range(size//2,img.shape[1] - size//2, size):\n",
    "#             for channel in range(img.shape[3]):\n",
    "            new[ (i-size//2)//size , (j-size//2)//size ] = img[i,j]\n",
    "    return new\n",
    "    "
   ]
  },
  {
   "cell_type": "code",
   "execution_count": 11,
   "id": "29fa84b7",
   "metadata": {},
   "outputs": [],
   "source": [
    "for file in os.listdir(path=\"./pan\") : \n",
    "    path =\"./pan\"+\"/\"+file\n",
    "#     print(path) \n",
    "    img  = cv2.imread(path, mono) \n",
    "    koeff  =  2 \n",
    "    w = img.shape[1]\n",
    "    img = sampling(cv2.GaussianBlur(img, (3, 3), 0), 2 )\n",
    "    cv2.imwrite(\"./blurImg/{}\".format(file), img)\n",
    "    \n",
    "\n",
    "    \n"
   ]
  },
  {
   "cell_type": "code",
   "execution_count": 11,
   "id": "9efbfcad",
   "metadata": {},
   "outputs": [
    {
     "data": {
      "text/plain": [
       "1"
      ]
     },
     "execution_count": 11,
     "metadata": {},
     "output_type": "execute_result"
    }
   ],
   "source": [
    "5 & 1"
   ]
  }
 ],
 "metadata": {
  "kernelspec": {
   "display_name": "Python 3",
   "language": "python",
   "name": "python3"
  },
  "language_info": {
   "codemirror_mode": {
    "name": "ipython",
    "version": 3
   },
   "file_extension": ".py",
   "mimetype": "text/x-python",
   "name": "python",
   "nbconvert_exporter": "python",
   "pygments_lexer": "ipython3",
   "version": "3.7.10"
  }
 },
 "nbformat": 4,
 "nbformat_minor": 5
}
