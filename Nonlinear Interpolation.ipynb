{
 "cells": [
  {
   "cell_type": "code",
   "execution_count": 3,
   "id": "5a25e295",
   "metadata": {},
   "outputs": [],
   "source": [
    "import cv2\n",
    "import numpy as np \n",
    "import math as mt\n",
    "import os \n",
    "from skimage.measure import compare_ssim\n",
    "import argparse\n",
    "import imutils\n",
    "import scipy.signal as signal\n",
    "import matplotlib.pylab as plt\n",
    "import time\n",
    "\n"
   ]
  },
  {
   "cell_type": "code",
   "execution_count": 5,
   "id": "4be1217e",
   "metadata": {},
   "outputs": [],
   "source": [
    "mono = cv2.IMREAD_GRAYSCALE\n",
    "poly = cv2.IMREAD_COLOR\n",
    "path1 ='./pan/' "
   ]
  },
  {
   "cell_type": "code",
   "execution_count": 6,
   "id": "6623a188",
   "metadata": {},
   "outputs": [
    {
     "data": {
      "text/plain": [
       "(512, 512)"
      ]
     },
     "execution_count": 6,
     "metadata": {},
     "output_type": "execute_result"
    }
   ],
   "source": [
    "img = cv2.imread( path1 + '/0002.png', mono) \n",
    "img.shape"
   ]
  },
  {
   "cell_type": "code",
   "execution_count": null,
   "id": "d09b8a8e",
   "metadata": {
    "scrolled": true
   },
   "outputs": [
    {
     "name": "stdout",
     "output_type": "stream",
     "text": [
      "1th iteration in progress\n",
      "10 20 30 40 50 60 70 80 90 100 110 120 130 140 150 160 170 180 190 200 210 220 230 240 250 260 270 280 290 300 310 320 330 340 350 360 370 380 390 400 410 420 430 440 450 460 470 480 490 500 510 2th iteration in progress\n",
      "10 20 30 40 50 60 70 80 90 100 110 120 130 140 150 160 170 180 190 200 210 220 230 240 250 260 270 280 290 300 310 320 330 340 350 360 370 380 390 400 410 420 430 440 450 460 470 480 490 500 510 3th iteration in progress\n",
      "10 20 30 40 50 60 70 80 90 100 110 120 130 140 150 160 170 180 190 200 210 220 230 240 250 260 270 280 290 300 310 320 330 340 350 360 370 380 390 400 410 420 430 440 450 460 470 480 490 500 510 4th iteration in progress\n",
      "10 20 30 40 50 60 70 80 90 100 110 120 130 140 150 160 170 180 190 200 210 220 230 240 250 260 270 280 290 300 310 320 330 340 350 360 370 380 390 400 410 420 430 440 450 460 470 480 490 500 510 5th iteration in progress\n",
      "10 20 30 40 50 60 70 80 90 100 110 120 130 140 150 160 170 180 190 200 210 220 230 240 250 260 270 280 290 300 310 320 330 340 350 360 370 380 390 400 410 420 430 440 450 460 470 480 490 500 510 6th iteration in progress\n",
      "10 20 30 40 50 60 70 80 90 100 110 120 130 140 150 160 170 180 190 200 210 220 230 240 250 260 270 280 290 300 310 320 330 340 350 360 370 380 390 400 410 420 430 440 450 460 470 480 490 500 510 7th iteration in progress\n",
      "10 20 30 40 50 60 70 80 90 100 110 120 130 140 150 160 170 180 190 200 210 220 230 240 250 260 270 280 290 300 310 320 330 340 350 360 370 380 390 400 410 420 430 440 450 460 470 480 490 500 510 8th iteration in progress\n",
      "10 20 30 40 50 60 70 80 90 100 110 120 130 140 150 160 170 180 "
     ]
    }
   ],
   "source": [
    "stride = 1\n",
    "size = 3\n",
    "max_similar = 20\n",
    "max_distance = 1000\n",
    "h = 50 \n",
    "clst = np.zeros((img.shape[0], img.shape[1], 2, max_similar))\n",
    "for i in range( size//2, img.shape[0] - size//2, stride):\n",
    "    print('{}th iteration in progress'.format(i) )\n",
    "    \n",
    "    start_epoch = time.time()\n",
    "\n",
    "print(\"--- %s seconds ---\" % (time.time() - start_epoch))\n",
    "    for j in range( size//2, img.shape[1] - size//2, stride):\n",
    "# for i in range( size//2, size//2+1):\n",
    "#     for j in range( size//2, size//2+1):\n",
    "#         print(img[i, j])\n",
    "        if ( j%10 == 0):\n",
    "            print(j, end = ' ')\n",
    "\n",
    "        cl = {}\n",
    "        con  = np.asarray(img[i-size//2 :i+size//2+1 ,j-size//2 : j + size//2 +1 ], dtype=np.float32)\n",
    "        for a in range( size//2, img.shape[0] - size//2, stride):\n",
    "            for b in range( size//2, img.shape[1] - size//2, stride):\n",
    "                crt = np.asarray(img[ a - size//2 : a + size//2 + 1 , b - size//2 : b + size//2 +1 ], dtype=np.float32)\n",
    "                f2 = np.linalg.norm(con - crt, ord ='fro')\n",
    "                cl[(a,b)] = f2\n",
    "        cl = dict( sorted(cl.items(), key=lambda item: item[1])[:max_similar])# сортировка и ограничение на число соседей\n",
    "        cl = { k: v for k,v in cl.items() if v < max_distance} # если вводить ограничения на максимальную дистанцию\n",
    "#         {k: v for k, v in sorted(x.items(), key=lambda item: item[1])}\n",
    "        cl_ind =[ k[0] for k in cl.items()]\n",
    "        cl_ind = np.array([img[ind[0], ind[1]] for ind in cl_ind])\n",
    "        cl_koef = np.array([ np.exp(-v[1]**2/h**2) for v in cl.items()])\n",
    "        img[i, j] = cl_ind @ cl_koef / cl_koef.sum()\n",
    "#         print(cl_ind @ cl_koef)\n",
    "#         print(cl_koef.sum())\n",
    "#         print(img[i, j]) \n",
    "    print('Epoch {} takes {} seconds',format(i, time.time() - start_epoch))\n",
    "            \n",
    "# plt.hist(dist)\n",
    "# print(cl.items())\n",
    "# for key, v  in cl.items():\n",
    "#     print('Pixel{} has distance {}'.format( key, v))\n",
    "# print(len(cl_ind))\n",
    "# # print([k[1]  for k in cl.items()])\n",
    "# print(cl_koef)\n",
    "# print(cl_ind)"
   ]
  },
  {
   "cell_type": "code",
   "execution_count": 7,
   "id": "7e8f8fee",
   "metadata": {},
   "outputs": [],
   "source": [
    "def pad_with(vector, pad_width, iaxis, kwargs):\n",
    "    pad_value = kwargs.get('padder', 10)\n",
    "    vector[:pad_width[0]] = pad_value\n",
    "    vector[-pad_width[1]:] = pad_value"
   ]
  },
  {
   "cell_type": "code",
   "execution_count": 15,
   "id": "87bfe06d",
   "metadata": {},
   "outputs": [
    {
     "name": "stderr",
     "output_type": "stream",
     "text": [
      "C:\\Users\\Aleksandr\\Anaconda3\\lib\\site-packages\\ipykernel_launcher.py:21: RuntimeWarning: invalid value encountered in true_divide\n"
     ]
    }
   ],
   "source": [
    "stride = 1\n",
    "size = 3\n",
    "max_similar = 20\n",
    "max_distance = 1000\n",
    "h = 50 \n",
    "img = img[:100, :100]\n",
    "ImgVec = np.zeros((img.shape[0]*img.shape[1], size**2)).astype(np.uint8)\n",
    "# padImg  = np.pad(img, 1, pad_with, padder = 0)\n",
    "padImg  = np.pad(img, 1,'symmetric')\n",
    "for i in range( 1, img.shape[0], stride):\n",
    "    for j in range( 1, img.shape[1], stride):\n",
    "        ImgVec[i*j,:] = np.asarray(padImg[i-size//2 :i+size//2+1 ,j-size//2 : j + size//2 +1 ], dtype=np.uint8).ravel()\n",
    "x_y = np.dot(ImgVec.astype(np.uint16), ImgVec.astype(np.uint16).T)\n",
    "xx = np.sum(ImgVec.astype(np.uint16)**2, axis = 1)\n",
    "\n",
    "dists = np.sqrt(-2*x_y + np.matrix(xx).T + np.matrix(xx))  \n",
    "# dists = np.sqrt(np.dot(ImgVec, ImgVec.T))\n",
    "max_dists = np.amax(dists, axis = 1 )\n",
    "# koef = np.exp(-(dists - np.matrix(max_dists).T)**2/h**2)\n",
    "koef = np.exp(-(dists)**2/h**2)\n",
    "new_img = np.divide( koef @ np.matrix(img.ravel()).T ,  np.matrix(koef.sum(axis = 1)) )\n",
    "new_img = new_img.reshape(img.shape).astype(np.uint8) "
   ]
  },
  {
   "cell_type": "code",
   "execution_count": 12,
   "id": "812d466f",
   "metadata": {},
   "outputs": [
    {
     "data": {
      "text/plain": [
       "0"
      ]
     },
     "execution_count": 12,
     "metadata": {},
     "output_type": "execute_result"
    }
   ],
   "source": [
    "new_img.max()\n"
   ]
  },
  {
   "cell_type": "code",
   "execution_count": 16,
   "id": "b239ff1a",
   "metadata": {},
   "outputs": [],
   "source": [
    "cv2.imshow(\"Image\", new_img)\n",
    "cv2.waitKey(0)\n",
    "cv2.destroyAllWindows()"
   ]
  },
  {
   "cell_type": "code",
   "execution_count": 13,
   "id": "5f20a565",
   "metadata": {
    "scrolled": false
   },
   "outputs": [
    {
     "data": {
      "text/plain": [
       "(10000, 1)"
      ]
     },
     "execution_count": 13,
     "metadata": {},
     "output_type": "execute_result"
    }
   ],
   "source": [
    "# print(koef.shape, (koef @ img.ravel().T).shape, koef.sum(axis = 1).shape )\n",
    "# koef \n",
    "np.matrix(max_dists).shape"
   ]
  },
  {
   "cell_type": "code",
   "execution_count": 17,
   "id": "8d9e785f",
   "metadata": {},
   "outputs": [
    {
     "name": "stdout",
     "output_type": "stream",
     "text": [
      "518.2566931550426\n",
      "[1.024e+03 1.024e+03 1.024e+03 4.900e+01 4.900e+01 4.900e+01 1.000e+00\n",
      " 1.000e+00 1.000e+00]\n",
      "[32 32 32  7  7  7  1  1  1]\n"
     ]
    }
   ],
   "source": [
    "print(np.amax(dists))  \n",
    "(ImgVec[35]* ImgVec[1]).sum() \n",
    "print((ImgVec[35].astype(np.float32)**2))\n",
    "print(ImgVec[35]) "
   ]
  },
  {
   "cell_type": "code",
   "execution_count": 18,
   "id": "2f6c2350",
   "metadata": {
    "scrolled": true
   },
   "outputs": [
    {
     "data": {
      "text/plain": [
       "(array([[0., 0., 0., ..., 0., 0., 0.],\n",
       "        [0., 0., 0., ..., 0., 0., 0.],\n",
       "        [0., 0., 0., ..., 0., 0., 0.],\n",
       "        ...,\n",
       "        [0., 0., 0., ..., 0., 0., 0.],\n",
       "        [0., 0., 0., ..., 0., 0., 0.],\n",
       "        [0., 0., 0., ..., 0., 0., 0.]]),\n",
       " array([-0.5, -0.4, -0.3, -0.2, -0.1,  0. ,  0.1,  0.2,  0.3,  0.4,  0.5]),\n",
       " <a list of 10000 BarContainer objects>)"
      ]
     },
     "execution_count": 18,
     "metadata": {},
     "output_type": "execute_result"
    },
    {
     "data": {
      "image/png": "[encoded data removed]",
      "text/plain": [
       "<Figure size 432x288 with 1 Axes>"
      ]
     },
     "metadata": {
      "needs_background": "light"
     },
     "output_type": "display_data"
    }
   ],
   "source": [
    "plt.hist(koef[0])"
   ]
  },
  {
   "cell_type": "code",
   "execution_count": 82,
   "id": "bf423d7f",
   "metadata": {},
   "outputs": [
    {
     "data": {
      "text/plain": [
       "(1, 10000)"
      ]
     },
     "execution_count": 82,
     "metadata": {},
     "output_type": "execute_result"
    }
   ],
   "source": [
    "( np.matrix(koef.sum(axis = 1)) ).shape"
   ]
  },
  {
   "cell_type": "code",
   "execution_count": 47,
   "id": "1075039d",
   "metadata": {
    "scrolled": true
   },
   "outputs": [],
   "source": [
    "new_img =  koef @ img.ravel().reshape(img.ravel().shape[0], 1) / koef.sum(axis = 1)"
   ]
  },
  {
   "cell_type": "code",
   "execution_count": 14,
   "id": "7326851b",
   "metadata": {},
   "outputs": [
    {
     "name": "stdout",
     "output_type": "stream",
     "text": [
      "nan nan 40 150 236 190\n"
     ]
    }
   ],
   "source": [
    "# new_img.reshape(img.shape) \n",
    "# koef.sum(axis = 1)\n",
    "koef @ img.ravel().reshape(img.ravel().shape[0], 1) \n",
    "img.ravel().reshape(img.ravel().shape[0], 1)\n",
    "koef\n",
    "print(dists[1,35], koef[1,35],xx[1], xx[35], x_y[1,35], ( np.matrix(xx).T + np.matrix(xx) )[1,35]) "
   ]
  },
  {
   "cell_type": "code",
   "execution_count": null,
   "id": "63b6ca1a",
   "metadata": {},
   "outputs": [],
   "source": [
    "xx.shape"
   ]
  },
  {
   "cell_type": "code",
   "execution_count": 31,
   "id": "2411e500",
   "metadata": {},
   "outputs": [
    {
     "data": {
      "text/plain": [
       "True"
      ]
     },
     "execution_count": 31,
     "metadata": {},
     "output_type": "execute_result"
    }
   ],
   "source": [
    "cv2.imwrite('one_str.jpg', new_img)"
   ]
  },
  {
   "cell_type": "code",
   "execution_count": 73,
   "id": "1da8e87a",
   "metadata": {},
   "outputs": [
    {
     "name": "stdout",
     "output_type": "stream",
     "text": [
      "[]\n",
      "[]\n"
     ]
    }
   ],
   "source": [
    "i, j = np.where(np.isnan(dists)) \n",
    "print(i)\n",
    "print(j) \n"
   ]
  },
  {
   "cell_type": "code",
   "execution_count": 131,
   "id": "edf6604a",
   "metadata": {},
   "outputs": [
    {
     "name": "stdout",
     "output_type": "stream",
     "text": [
      "NEw (0, 0)\n",
      "NEw (2, 2)\n",
      "2\n"
     ]
    },
    {
     "data": {
      "text/plain": [
       "[1, 5]"
      ]
     },
     "execution_count": 131,
     "metadata": {},
     "output_type": "execute_result"
    }
   ],
   "source": [
    "a = np.array([[1,2,3],[2,3,4],[3,4,5]])\n",
    "ind = [(0,0),(2,2)]\n",
    "# [a[i] for i in ind]\n",
    "# type(ind)\n",
    "for i in ind: \n",
    "    print(\"NEw\",i) \n",
    "print(len(ind))    \n",
    "# [a[i[0]][i[1]] for i in ind ] \n",
    "[a[i[0],i[1]] for i in ind ]"
   ]
  },
  {
   "cell_type": "code",
   "execution_count": null,
   "id": "45f6851b",
   "metadata": {},
   "outputs": [],
   "source": []
  }
 ],
 "metadata": {
  "kernelspec": {
   "display_name": "Python 3",
   "language": "python",
   "name": "python3"
  },
  "language_info": {
   "codemirror_mode": {
    "name": "ipython",
    "version": 3
   },
   "file_extension": ".py",
   "mimetype": "text/x-python",
   "name": "python",
   "nbconvert_exporter": "python",
   "pygments_lexer": "ipython3",
   "version": "3.7.10"
  }
 },
 "nbformat": 4,
 "nbformat_minor": 5
}
